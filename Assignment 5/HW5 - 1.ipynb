{
  "nbformat": 4,
  "nbformat_minor": 0,
  "metadata": {
    "colab": {
      "name": "ML - HW5(NN for IRIS dataset).ipynb",
      "provenance": [],
      "collapsed_sections": []
    },
    "kernelspec": {
      "name": "python3",
      "display_name": "Python 3"
    },
    "language_info": {
      "name": "python"
    }
  },
  "cells": [
    {
      "cell_type": "code",
      "execution_count": 34,
      "metadata": {
        "id": "Kf1_dXELStYI"
      },
      "outputs": [],
      "source": [
        "import pandas as pd\n",
        "import numpy as np\n",
        "from sklearn.preprocessing import LabelEncoder\n",
        "from sklearn.model_selection import train_test_split\n",
        "\n",
        "import tensorflow as tf\n",
        "from tensorflow.keras import layers, models"
      ]
    },
    {
      "cell_type": "code",
      "source": [
        "data = pd.read_csv('iris.data')\n",
        "data.head()"
      ],
      "metadata": {
        "colab": {
          "base_uri": "https://localhost:8080/",
          "height": 206
        },
        "id": "_mq3wgEuTIHg",
        "outputId": "0d66aab2-566f-4af7-c785-f9c3005b8e2a"
      },
      "execution_count": 35,
      "outputs": [
        {
          "output_type": "execute_result",
          "data": {
            "text/html": [
              "<div>\n",
              "<style scoped>\n",
              "    .dataframe tbody tr th:only-of-type {\n",
              "        vertical-align: middle;\n",
              "    }\n",
              "\n",
              "    .dataframe tbody tr th {\n",
              "        vertical-align: top;\n",
              "    }\n",
              "\n",
              "    .dataframe thead th {\n",
              "        text-align: right;\n",
              "    }\n",
              "</style>\n",
              "<table border=\"1\" class=\"dataframe\">\n",
              "  <thead>\n",
              "    <tr style=\"text-align: right;\">\n",
              "      <th></th>\n",
              "      <th>5.1</th>\n",
              "      <th>3.5</th>\n",
              "      <th>1.4</th>\n",
              "      <th>0.2</th>\n",
              "      <th>Iris-setosa</th>\n",
              "    </tr>\n",
              "  </thead>\n",
              "  <tbody>\n",
              "    <tr>\n",
              "      <th>0</th>\n",
              "      <td>4.9</td>\n",
              "      <td>3.0</td>\n",
              "      <td>1.4</td>\n",
              "      <td>0.2</td>\n",
              "      <td>Iris-setosa</td>\n",
              "    </tr>\n",
              "    <tr>\n",
              "      <th>1</th>\n",
              "      <td>4.7</td>\n",
              "      <td>3.2</td>\n",
              "      <td>1.3</td>\n",
              "      <td>0.2</td>\n",
              "      <td>Iris-setosa</td>\n",
              "    </tr>\n",
              "    <tr>\n",
              "      <th>2</th>\n",
              "      <td>4.6</td>\n",
              "      <td>3.1</td>\n",
              "      <td>1.5</td>\n",
              "      <td>0.2</td>\n",
              "      <td>Iris-setosa</td>\n",
              "    </tr>\n",
              "    <tr>\n",
              "      <th>3</th>\n",
              "      <td>5.0</td>\n",
              "      <td>3.6</td>\n",
              "      <td>1.4</td>\n",
              "      <td>0.2</td>\n",
              "      <td>Iris-setosa</td>\n",
              "    </tr>\n",
              "    <tr>\n",
              "      <th>4</th>\n",
              "      <td>5.4</td>\n",
              "      <td>3.9</td>\n",
              "      <td>1.7</td>\n",
              "      <td>0.4</td>\n",
              "      <td>Iris-setosa</td>\n",
              "    </tr>\n",
              "  </tbody>\n",
              "</table>\n",
              "</div>"
            ],
            "text/plain": [
              "   5.1  3.5  1.4  0.2  Iris-setosa\n",
              "0  4.9  3.0  1.4  0.2  Iris-setosa\n",
              "1  4.7  3.2  1.3  0.2  Iris-setosa\n",
              "2  4.6  3.1  1.5  0.2  Iris-setosa\n",
              "3  5.0  3.6  1.4  0.2  Iris-setosa\n",
              "4  5.4  3.9  1.7  0.4  Iris-setosa"
            ]
          },
          "metadata": {},
          "execution_count": 35
        }
      ]
    },
    {
      "cell_type": "code",
      "source": [
        "X = data.iloc[:,0:4].values\n",
        "y = data.iloc[:,-1].values"
      ],
      "metadata": {
        "id": "q0GbGfhdTadN"
      },
      "execution_count": 53,
      "outputs": []
    },
    {
      "cell_type": "code",
      "source": [
        "#Encoding\n",
        "#Convert target into LabelEncoder\n",
        "encoder =  LabelEncoder()\n",
        "y_Encoded = encoder.fit_transform(y)\n",
        "\n",
        "#Convert target into LabelEncoder\n",
        "encoder =  LabelEncoder()\n",
        "y_Encoded = encoder.fit_transform(y)\n",
        "\n",
        "#Convert target into one hot encoding\n",
        "Y = pd.get_dummies(y_Encoded).values"
      ],
      "metadata": {
        "id": "aUZv4Ls-TgUO"
      },
      "execution_count": 54,
      "outputs": []
    },
    {
      "cell_type": "code",
      "source": [
        "#Convert X and Y into train and test data\n",
        "X_train, X_test, y_train, y_test = train_test_split(X, Y, test_size=0.2, random_state=0)\n"
      ],
      "metadata": {
        "id": "vU-R6Fe3jZDk"
      },
      "execution_count": 55,
      "outputs": []
    },
    {
      "cell_type": "code",
      "source": [
        "#Define a model\n",
        "model = tf.keras.models.Sequential([\n",
        "  tf.keras.layers.Dense(10, input_dim=4, activation='relu'),\n",
        "  tf.keras.layers.Dense(10, activation='relu'),\n",
        "  tf.keras.layers.Dense(3,activation=\"softmax\")\n",
        "])"
      ],
      "metadata": {
        "id": "3KmDCTMDjVpI"
      },
      "execution_count": 101,
      "outputs": []
    },
    {
      "cell_type": "code",
      "source": [
        "#Compile the model\n",
        "model.compile(optimizer='sgd',\n",
        "              loss='categorical_crossentropy',\n",
        "              metrics=['accuracy'])"
      ],
      "metadata": {
        "id": "1JqxCvmbTgch"
      },
      "execution_count": 102,
      "outputs": []
    },
    {
      "cell_type": "code",
      "source": [
        "#Train the model\n",
        "fit = model.fit(X_train, y_train, validation_split=0.1, epochs=100)"
      ],
      "metadata": {
        "colab": {
          "base_uri": "https://localhost:8080/"
        },
        "id": "48kinLspTggK",
        "outputId": "e67833d8-d900-47af-fd16-61ea45f74317"
      },
      "execution_count": 109,
      "outputs": [
        {
          "output_type": "stream",
          "name": "stdout",
          "text": [
            "Epoch 1/100\n",
            "4/4 [==============================] - 0s 20ms/step - loss: 0.2704 - accuracy: 0.9533 - val_loss: 0.2385 - val_accuracy: 1.0000\n",
            "Epoch 2/100\n",
            "4/4 [==============================] - 0s 10ms/step - loss: 0.2667 - accuracy: 0.9439 - val_loss: 0.2210 - val_accuracy: 1.0000\n",
            "Epoch 3/100\n",
            "4/4 [==============================] - 0s 10ms/step - loss: 0.2708 - accuracy: 0.9346 - val_loss: 0.1986 - val_accuracy: 1.0000\n",
            "Epoch 4/100\n",
            "4/4 [==============================] - 0s 9ms/step - loss: 0.2977 - accuracy: 0.9065 - val_loss: 0.2696 - val_accuracy: 0.9167\n",
            "Epoch 5/100\n",
            "4/4 [==============================] - 0s 9ms/step - loss: 0.2616 - accuracy: 0.9346 - val_loss: 0.3320 - val_accuracy: 0.6667\n",
            "Epoch 6/100\n",
            "4/4 [==============================] - 0s 11ms/step - loss: 0.2788 - accuracy: 0.9346 - val_loss: 0.2747 - val_accuracy: 0.9167\n",
            "Epoch 7/100\n",
            "4/4 [==============================] - 0s 10ms/step - loss: 0.2664 - accuracy: 0.9065 - val_loss: 0.2155 - val_accuracy: 1.0000\n",
            "Epoch 8/100\n",
            "4/4 [==============================] - 0s 11ms/step - loss: 0.2959 - accuracy: 0.9159 - val_loss: 0.1994 - val_accuracy: 1.0000\n",
            "Epoch 9/100\n",
            "4/4 [==============================] - 0s 10ms/step - loss: 0.2588 - accuracy: 0.9533 - val_loss: 0.4632 - val_accuracy: 0.6667\n",
            "Epoch 10/100\n",
            "4/4 [==============================] - 0s 13ms/step - loss: 0.3168 - accuracy: 0.9065 - val_loss: 0.2686 - val_accuracy: 0.9167\n",
            "Epoch 11/100\n",
            "4/4 [==============================] - 0s 9ms/step - loss: 0.2514 - accuracy: 0.9439 - val_loss: 0.1828 - val_accuracy: 1.0000\n",
            "Epoch 12/100\n",
            "4/4 [==============================] - 0s 12ms/step - loss: 0.2527 - accuracy: 0.9439 - val_loss: 0.2724 - val_accuracy: 0.9167\n",
            "Epoch 13/100\n",
            "4/4 [==============================] - 0s 12ms/step - loss: 0.2536 - accuracy: 0.9439 - val_loss: 0.1906 - val_accuracy: 1.0000\n",
            "Epoch 14/100\n",
            "4/4 [==============================] - 0s 11ms/step - loss: 0.2505 - accuracy: 0.9346 - val_loss: 0.1865 - val_accuracy: 1.0000\n",
            "Epoch 15/100\n",
            "4/4 [==============================] - 0s 10ms/step - loss: 0.2524 - accuracy: 0.9439 - val_loss: 0.2099 - val_accuracy: 1.0000\n",
            "Epoch 16/100\n",
            "4/4 [==============================] - 0s 10ms/step - loss: 0.2891 - accuracy: 0.8785 - val_loss: 0.2258 - val_accuracy: 0.9167\n",
            "Epoch 17/100\n",
            "4/4 [==============================] - 0s 12ms/step - loss: 0.2398 - accuracy: 0.9533 - val_loss: 0.1726 - val_accuracy: 1.0000\n",
            "Epoch 18/100\n",
            "4/4 [==============================] - 0s 10ms/step - loss: 0.2405 - accuracy: 0.9533 - val_loss: 0.1945 - val_accuracy: 1.0000\n",
            "Epoch 19/100\n",
            "4/4 [==============================] - 0s 11ms/step - loss: 0.2339 - accuracy: 0.9533 - val_loss: 0.1791 - val_accuracy: 1.0000\n",
            "Epoch 20/100\n",
            "4/4 [==============================] - 0s 11ms/step - loss: 0.2379 - accuracy: 0.9626 - val_loss: 0.1974 - val_accuracy: 1.0000\n",
            "Epoch 21/100\n",
            "4/4 [==============================] - 0s 12ms/step - loss: 0.2424 - accuracy: 0.9533 - val_loss: 0.2576 - val_accuracy: 0.9167\n",
            "Epoch 22/100\n",
            "4/4 [==============================] - 0s 14ms/step - loss: 0.2394 - accuracy: 0.9439 - val_loss: 0.2800 - val_accuracy: 0.9167\n",
            "Epoch 23/100\n",
            "4/4 [==============================] - 0s 13ms/step - loss: 0.2444 - accuracy: 0.9346 - val_loss: 0.2560 - val_accuracy: 0.9167\n",
            "Epoch 24/100\n",
            "4/4 [==============================] - 0s 10ms/step - loss: 0.2262 - accuracy: 0.9626 - val_loss: 0.1678 - val_accuracy: 1.0000\n",
            "Epoch 25/100\n",
            "4/4 [==============================] - 0s 11ms/step - loss: 0.2351 - accuracy: 0.9533 - val_loss: 0.1484 - val_accuracy: 1.0000\n",
            "Epoch 26/100\n",
            "4/4 [==============================] - 0s 11ms/step - loss: 0.2515 - accuracy: 0.9439 - val_loss: 0.1493 - val_accuracy: 1.0000\n",
            "Epoch 27/100\n",
            "4/4 [==============================] - 0s 11ms/step - loss: 0.2562 - accuracy: 0.9065 - val_loss: 0.1657 - val_accuracy: 1.0000\n",
            "Epoch 28/100\n",
            "4/4 [==============================] - 0s 9ms/step - loss: 0.2298 - accuracy: 0.9439 - val_loss: 0.3121 - val_accuracy: 0.8333\n",
            "Epoch 29/100\n",
            "4/4 [==============================] - 0s 9ms/step - loss: 0.2408 - accuracy: 0.9346 - val_loss: 0.1437 - val_accuracy: 1.0000\n",
            "Epoch 30/100\n",
            "4/4 [==============================] - 0s 11ms/step - loss: 0.2495 - accuracy: 0.9439 - val_loss: 0.1603 - val_accuracy: 1.0000\n",
            "Epoch 31/100\n",
            "4/4 [==============================] - 0s 10ms/step - loss: 0.2235 - accuracy: 0.9439 - val_loss: 0.2057 - val_accuracy: 1.0000\n",
            "Epoch 32/100\n",
            "4/4 [==============================] - 0s 11ms/step - loss: 0.2171 - accuracy: 0.9533 - val_loss: 0.2304 - val_accuracy: 0.9167\n",
            "Epoch 33/100\n",
            "4/4 [==============================] - 0s 9ms/step - loss: 0.2162 - accuracy: 0.9439 - val_loss: 0.2489 - val_accuracy: 0.9167\n",
            "Epoch 34/100\n",
            "4/4 [==============================] - 0s 11ms/step - loss: 0.2159 - accuracy: 0.9252 - val_loss: 0.2858 - val_accuracy: 0.8333\n",
            "Epoch 35/100\n",
            "4/4 [==============================] - 0s 11ms/step - loss: 0.2362 - accuracy: 0.9252 - val_loss: 0.2238 - val_accuracy: 0.9167\n",
            "Epoch 36/100\n",
            "4/4 [==============================] - 0s 9ms/step - loss: 0.2126 - accuracy: 0.9533 - val_loss: 0.2716 - val_accuracy: 0.9167\n",
            "Epoch 37/100\n",
            "4/4 [==============================] - 0s 9ms/step - loss: 0.2029 - accuracy: 0.9439 - val_loss: 0.1284 - val_accuracy: 1.0000\n",
            "Epoch 38/100\n",
            "4/4 [==============================] - 0s 15ms/step - loss: 0.2415 - accuracy: 0.9159 - val_loss: 0.1458 - val_accuracy: 1.0000\n",
            "Epoch 39/100\n",
            "4/4 [==============================] - 0s 17ms/step - loss: 0.2224 - accuracy: 0.9159 - val_loss: 0.1842 - val_accuracy: 1.0000\n",
            "Epoch 40/100\n",
            "4/4 [==============================] - 0s 10ms/step - loss: 0.2068 - accuracy: 0.9252 - val_loss: 0.1370 - val_accuracy: 1.0000\n",
            "Epoch 41/100\n",
            "4/4 [==============================] - 0s 10ms/step - loss: 0.2337 - accuracy: 0.9252 - val_loss: 0.2888 - val_accuracy: 0.8333\n",
            "Epoch 42/100\n",
            "4/4 [==============================] - 0s 10ms/step - loss: 0.2580 - accuracy: 0.9252 - val_loss: 0.1846 - val_accuracy: 1.0000\n",
            "Epoch 43/100\n",
            "4/4 [==============================] - 0s 9ms/step - loss: 0.2067 - accuracy: 0.9439 - val_loss: 0.1355 - val_accuracy: 1.0000\n",
            "Epoch 44/100\n",
            "4/4 [==============================] - 0s 12ms/step - loss: 0.2339 - accuracy: 0.9065 - val_loss: 0.1205 - val_accuracy: 1.0000\n",
            "Epoch 45/100\n",
            "4/4 [==============================] - 0s 10ms/step - loss: 0.2104 - accuracy: 0.9533 - val_loss: 0.2296 - val_accuracy: 0.9167\n",
            "Epoch 46/100\n",
            "4/4 [==============================] - 0s 14ms/step - loss: 0.2013 - accuracy: 0.9439 - val_loss: 0.2372 - val_accuracy: 0.9167\n",
            "Epoch 47/100\n",
            "4/4 [==============================] - 0s 9ms/step - loss: 0.2044 - accuracy: 0.9346 - val_loss: 0.2724 - val_accuracy: 0.8333\n",
            "Epoch 48/100\n",
            "4/4 [==============================] - 0s 10ms/step - loss: 0.2039 - accuracy: 0.9439 - val_loss: 0.1129 - val_accuracy: 1.0000\n",
            "Epoch 49/100\n",
            "4/4 [==============================] - 0s 11ms/step - loss: 0.2061 - accuracy: 0.9439 - val_loss: 0.1290 - val_accuracy: 1.0000\n",
            "Epoch 50/100\n",
            "4/4 [==============================] - 0s 12ms/step - loss: 0.2031 - accuracy: 0.9533 - val_loss: 0.1565 - val_accuracy: 1.0000\n",
            "Epoch 51/100\n",
            "4/4 [==============================] - 0s 9ms/step - loss: 0.1981 - accuracy: 0.9533 - val_loss: 0.1111 - val_accuracy: 1.0000\n",
            "Epoch 52/100\n",
            "4/4 [==============================] - 0s 10ms/step - loss: 0.2600 - accuracy: 0.8411 - val_loss: 0.1961 - val_accuracy: 1.0000\n",
            "Epoch 53/100\n",
            "4/4 [==============================] - 0s 11ms/step - loss: 0.1947 - accuracy: 0.9626 - val_loss: 0.1891 - val_accuracy: 1.0000\n",
            "Epoch 54/100\n",
            "4/4 [==============================] - 0s 11ms/step - loss: 0.1900 - accuracy: 0.9533 - val_loss: 0.1194 - val_accuracy: 1.0000\n",
            "Epoch 55/100\n",
            "4/4 [==============================] - 0s 10ms/step - loss: 0.2124 - accuracy: 0.9533 - val_loss: 0.2581 - val_accuracy: 0.8333\n",
            "Epoch 56/100\n",
            "4/4 [==============================] - 0s 11ms/step - loss: 0.1941 - accuracy: 0.9533 - val_loss: 0.1212 - val_accuracy: 1.0000\n",
            "Epoch 57/100\n",
            "4/4 [==============================] - 0s 11ms/step - loss: 0.1897 - accuracy: 0.9626 - val_loss: 0.1102 - val_accuracy: 1.0000\n",
            "Epoch 58/100\n",
            "4/4 [==============================] - 0s 12ms/step - loss: 0.2041 - accuracy: 0.9533 - val_loss: 0.1941 - val_accuracy: 1.0000\n",
            "Epoch 59/100\n",
            "4/4 [==============================] - 0s 13ms/step - loss: 0.2084 - accuracy: 0.9346 - val_loss: 0.1226 - val_accuracy: 1.0000\n",
            "Epoch 60/100\n",
            "4/4 [==============================] - 0s 10ms/step - loss: 0.1848 - accuracy: 0.9533 - val_loss: 0.1254 - val_accuracy: 1.0000\n",
            "Epoch 61/100\n",
            "4/4 [==============================] - 0s 13ms/step - loss: 0.1916 - accuracy: 0.9439 - val_loss: 0.1098 - val_accuracy: 1.0000\n",
            "Epoch 62/100\n",
            "4/4 [==============================] - 0s 11ms/step - loss: 0.1844 - accuracy: 0.9533 - val_loss: 0.1155 - val_accuracy: 1.0000\n",
            "Epoch 63/100\n",
            "4/4 [==============================] - 0s 10ms/step - loss: 0.1841 - accuracy: 0.9626 - val_loss: 0.1087 - val_accuracy: 1.0000\n",
            "Epoch 64/100\n",
            "4/4 [==============================] - 0s 9ms/step - loss: 0.1932 - accuracy: 0.9533 - val_loss: 0.2117 - val_accuracy: 0.9167\n",
            "Epoch 65/100\n",
            "4/4 [==============================] - 0s 10ms/step - loss: 0.1842 - accuracy: 0.9626 - val_loss: 0.1677 - val_accuracy: 1.0000\n",
            "Epoch 66/100\n",
            "4/4 [==============================] - 0s 12ms/step - loss: 0.1770 - accuracy: 0.9533 - val_loss: 0.1032 - val_accuracy: 1.0000\n",
            "Epoch 67/100\n",
            "4/4 [==============================] - 0s 10ms/step - loss: 0.1847 - accuracy: 0.9720 - val_loss: 0.4565 - val_accuracy: 0.6667\n",
            "Epoch 68/100\n",
            "4/4 [==============================] - 0s 15ms/step - loss: 0.2465 - accuracy: 0.8972 - val_loss: 0.0903 - val_accuracy: 1.0000\n",
            "Epoch 69/100\n",
            "4/4 [==============================] - 0s 11ms/step - loss: 0.2026 - accuracy: 0.9439 - val_loss: 0.1063 - val_accuracy: 1.0000\n",
            "Epoch 70/100\n",
            "4/4 [==============================] - 0s 13ms/step - loss: 0.1919 - accuracy: 0.9533 - val_loss: 0.0880 - val_accuracy: 1.0000\n",
            "Epoch 71/100\n",
            "4/4 [==============================] - 0s 11ms/step - loss: 0.2041 - accuracy: 0.9159 - val_loss: 0.1602 - val_accuracy: 0.9167\n",
            "Epoch 72/100\n",
            "4/4 [==============================] - 0s 13ms/step - loss: 0.2474 - accuracy: 0.8879 - val_loss: 0.2111 - val_accuracy: 0.9167\n",
            "Epoch 73/100\n",
            "4/4 [==============================] - 0s 11ms/step - loss: 0.1785 - accuracy: 0.9346 - val_loss: 0.2164 - val_accuracy: 0.9167\n",
            "Epoch 74/100\n",
            "4/4 [==============================] - 0s 12ms/step - loss: 0.1834 - accuracy: 0.9439 - val_loss: 0.1083 - val_accuracy: 1.0000\n",
            "Epoch 75/100\n",
            "4/4 [==============================] - 0s 10ms/step - loss: 0.1717 - accuracy: 0.9626 - val_loss: 0.0983 - val_accuracy: 1.0000\n",
            "Epoch 76/100\n",
            "4/4 [==============================] - 0s 11ms/step - loss: 0.1823 - accuracy: 0.9626 - val_loss: 0.2435 - val_accuracy: 0.8333\n",
            "Epoch 77/100\n",
            "4/4 [==============================] - 0s 10ms/step - loss: 0.1848 - accuracy: 0.9439 - val_loss: 0.3138 - val_accuracy: 0.7500\n",
            "Epoch 78/100\n",
            "4/4 [==============================] - 0s 10ms/step - loss: 0.1777 - accuracy: 0.9346 - val_loss: 0.0973 - val_accuracy: 1.0000\n",
            "Epoch 79/100\n",
            "4/4 [==============================] - 0s 11ms/step - loss: 0.1941 - accuracy: 0.9252 - val_loss: 0.1253 - val_accuracy: 1.0000\n",
            "Epoch 80/100\n",
            "4/4 [==============================] - 0s 14ms/step - loss: 0.1645 - accuracy: 0.9626 - val_loss: 0.2900 - val_accuracy: 0.8333\n",
            "Epoch 81/100\n",
            "4/4 [==============================] - 0s 10ms/step - loss: 0.2229 - accuracy: 0.8972 - val_loss: 0.1473 - val_accuracy: 1.0000\n",
            "Epoch 82/100\n",
            "4/4 [==============================] - 0s 10ms/step - loss: 0.1643 - accuracy: 0.9626 - val_loss: 0.0771 - val_accuracy: 1.0000\n",
            "Epoch 83/100\n",
            "4/4 [==============================] - 0s 10ms/step - loss: 0.2122 - accuracy: 0.9065 - val_loss: 0.1785 - val_accuracy: 1.0000\n",
            "Epoch 84/100\n",
            "4/4 [==============================] - 0s 11ms/step - loss: 0.1618 - accuracy: 0.9626 - val_loss: 0.1532 - val_accuracy: 1.0000\n",
            "Epoch 85/100\n",
            "4/4 [==============================] - 0s 13ms/step - loss: 0.1626 - accuracy: 0.9533 - val_loss: 0.1171 - val_accuracy: 1.0000\n",
            "Epoch 86/100\n",
            "4/4 [==============================] - 0s 12ms/step - loss: 0.1691 - accuracy: 0.9439 - val_loss: 0.1555 - val_accuracy: 1.0000\n",
            "Epoch 87/100\n",
            "4/4 [==============================] - 0s 10ms/step - loss: 0.1662 - accuracy: 0.9439 - val_loss: 0.1016 - val_accuracy: 1.0000\n",
            "Epoch 88/100\n",
            "4/4 [==============================] - 0s 10ms/step - loss: 0.1783 - accuracy: 0.9533 - val_loss: 0.0763 - val_accuracy: 1.0000\n",
            "Epoch 89/100\n",
            "4/4 [==============================] - 0s 14ms/step - loss: 0.1944 - accuracy: 0.9252 - val_loss: 0.1605 - val_accuracy: 1.0000\n",
            "Epoch 90/100\n",
            "4/4 [==============================] - 0s 17ms/step - loss: 0.1607 - accuracy: 0.9533 - val_loss: 0.0704 - val_accuracy: 1.0000\n",
            "Epoch 91/100\n",
            "4/4 [==============================] - 0s 13ms/step - loss: 0.1706 - accuracy: 0.9533 - val_loss: 0.2460 - val_accuracy: 0.8333\n",
            "Epoch 92/100\n",
            "4/4 [==============================] - 0s 12ms/step - loss: 0.1849 - accuracy: 0.9533 - val_loss: 0.1500 - val_accuracy: 1.0000\n",
            "Epoch 93/100\n",
            "4/4 [==============================] - 0s 13ms/step - loss: 0.1650 - accuracy: 0.9533 - val_loss: 0.1059 - val_accuracy: 1.0000\n",
            "Epoch 94/100\n",
            "4/4 [==============================] - 0s 11ms/step - loss: 0.1570 - accuracy: 0.9533 - val_loss: 0.2366 - val_accuracy: 0.8333\n",
            "Epoch 95/100\n",
            "4/4 [==============================] - 0s 9ms/step - loss: 0.1733 - accuracy: 0.9346 - val_loss: 0.0746 - val_accuracy: 1.0000\n",
            "Epoch 96/100\n",
            "4/4 [==============================] - 0s 11ms/step - loss: 0.1551 - accuracy: 0.9720 - val_loss: 0.2253 - val_accuracy: 0.8333\n",
            "Epoch 97/100\n",
            "4/4 [==============================] - 0s 9ms/step - loss: 0.1785 - accuracy: 0.9252 - val_loss: 0.0943 - val_accuracy: 1.0000\n",
            "Epoch 98/100\n",
            "4/4 [==============================] - 0s 11ms/step - loss: 0.1644 - accuracy: 0.9533 - val_loss: 0.1050 - val_accuracy: 1.0000\n",
            "Epoch 99/100\n",
            "4/4 [==============================] - 0s 12ms/step - loss: 0.1654 - accuracy: 0.9533 - val_loss: 0.0688 - val_accuracy: 1.0000\n",
            "Epoch 100/100\n",
            "4/4 [==============================] - 0s 12ms/step - loss: 0.1492 - accuracy: 0.9533 - val_loss: 0.1595 - val_accuracy: 1.0000\n"
          ]
        }
      ]
    },
    {
      "cell_type": "code",
      "source": [
        "#Evaluate the model\n",
        "loss, accuracy = model.evaluate(X_test, y_test, verbose=2)\n",
        "print('Test loss:', loss)\n",
        "print('Test accuracy:', accuracy)"
      ],
      "metadata": {
        "colab": {
          "base_uri": "https://localhost:8080/"
        },
        "id": "8fnbmbGwTgpS",
        "outputId": "f1b1a00f-bd81-41ed-de92-761192320cba"
      },
      "execution_count": 110,
      "outputs": [
        {
          "output_type": "stream",
          "name": "stdout",
          "text": [
            "1/1 - 0s - loss: 0.1514 - accuracy: 1.0000 - 19ms/epoch - 19ms/step\n",
            "Test loss: 0.15139125287532806\n",
            "Test accuracy: 1.0\n"
          ]
        }
      ]
    },
    {
      "cell_type": "code",
      "source": [
        "#Predict test data\n",
        "y_pred = model.predict(X_test)"
      ],
      "metadata": {
        "id": "9BoOmhGuTTms"
      },
      "execution_count": 111,
      "outputs": []
    },
    {
      "cell_type": "code",
      "source": [
        "#Print actual and predicted value\n",
        "actual = np.argmax(y_test,axis=1)\n",
        "predicted = np.argmax(y_pred,axis=1)\n",
        "result=pd.DataFrame({\"Actual\":actual,\"Predicted\":predicted})\n",
        "print(result)"
      ],
      "metadata": {
        "colab": {
          "base_uri": "https://localhost:8080/"
        },
        "id": "zFasMgHPUTbV",
        "outputId": "c2ed698f-a4ae-4eae-e7f4-5d34a293a5b3"
      },
      "execution_count": 112,
      "outputs": [
        {
          "output_type": "stream",
          "name": "stdout",
          "text": [
            "    Actual  Predicted\n",
            "0        2          2\n",
            "1        2          2\n",
            "2        1          1\n",
            "3        1          1\n",
            "4        0          0\n",
            "5        2          2\n",
            "6        2          2\n",
            "7        1          1\n",
            "8        2          2\n",
            "9        1          1\n",
            "10       0          0\n",
            "11       0          0\n",
            "12       1          1\n",
            "13       0          0\n",
            "14       0          0\n",
            "15       2          2\n",
            "16       2          2\n",
            "17       1          1\n",
            "18       0          0\n",
            "19       0          0\n",
            "20       0          0\n",
            "21       0          0\n",
            "22       1          1\n",
            "23       0          0\n",
            "24       1          1\n",
            "25       1          1\n",
            "26       1          1\n",
            "27       0          0\n",
            "28       0          0\n",
            "29       2          2\n"
          ]
        }
      ]
    }
  ]
}