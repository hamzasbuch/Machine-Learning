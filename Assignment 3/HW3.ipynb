{
 "cells": [
  {
   "cell_type": "code",
   "execution_count": 1,
   "metadata": {},
   "outputs": [],
   "source": [
    "#Import required modules\n",
    "import pandas as pd\n",
    "\n",
    "from sklearn.neighbors import KNeighborsClassifier\n",
    "\n",
    "from sklearn.metrics import confusion_matrix, accuracy_score, precision_score, f1_score"
   ]
  },
  {
   "cell_type": "code",
   "execution_count": 2,
   "metadata": {},
   "outputs": [],
   "source": [
    "# Reading data from excel to pandas data frame\n",
    "train = pd.read_csv('train.csv')\n",
    "test = pd.read_csv('test.csv')\n",
    "\n",
    "X_train= train.iloc[:,0:3].values\n",
    "y_train = train.iloc[:,-1].values\n",
    "\n",
    "X_test = test.iloc[:,1:-1].values\n",
    "y_test = test.iloc[:,-1].values"
   ]
  },
  {
   "cell_type": "code",
   "execution_count": 3,
   "metadata": {},
   "outputs": [
    {
     "name": "stdout",
     "output_type": "stream",
     "text": [
      "Probability Estimates for test data:\n",
      " [[0.         1.        ]\n",
      " [0.66666667 0.33333333]\n",
      " [1.         0.        ]\n",
      " [0.         1.        ]\n",
      " [1.         0.        ]\n",
      " [0.         1.        ]\n",
      " [1.         0.        ]\n",
      " [1.         0.        ]\n",
      " [1.         0.        ]\n",
      " [1.         0.        ]\n",
      " [0.         1.        ]\n",
      " [1.         0.        ]\n",
      " [1.         0.        ]\n",
      " [1.         0.        ]\n",
      " [0.66666667 0.33333333]\n",
      " [0.         1.        ]\n",
      " [0.         1.        ]\n",
      " [1.         0.        ]\n",
      " [1.         0.        ]\n",
      " [1.         0.        ]]\n"
     ]
    }
   ],
   "source": [
    "#Manhattan distance model\n",
    "KNN_Manhattan = KNeighborsClassifier(n_neighbors=3, metric=\"manhattan\")\n",
    "KNN_Manhattan.fit(X_train,y_train)\n",
    "\n",
    "y_pred_Manhattan = KNN_Manhattan.predict(X_test)\n",
    "\n",
    "pred_prob_Manhattan = KNN_Manhattan.predict_proba(X_test)\n",
    "\n",
    "print(\"Probability Estimates for test data:\\n\",pred_prob_Manhattan)\n"
   ]
  },
  {
   "cell_type": "code",
   "execution_count": 4,
   "metadata": {},
   "outputs": [
    {
     "name": "stdout",
     "output_type": "stream",
     "text": [
      "Confusion Matrix:\n",
      " [[14  0]\n",
      " [ 0  6]]\n",
      "F-measure: 1.000000\n",
      "Precision: 1.000000\n",
      "Accuracy: 100.000000\n"
     ]
    }
   ],
   "source": [
    "#Evaluation Metrics for Manhattan model\n",
    "Confusion_Matrix = confusion_matrix(y_test, y_pred_Manhattan)\n",
    "F_Score = f1_score(y_test,y_pred_Manhattan)\n",
    "Precision = precision_score(y_test, y_pred_Manhattan)\n",
    "Accuracy = accuracy_score(y_test, y_pred_Manhattan)*100\n",
    "print(\"Confusion Matrix:\\n\",Confusion_Matrix)\n",
    "print(\"F-measure: %f\" % F_Score)\n",
    "print(\"Precision: %f\" % Precision)\n",
    "print(\"Accuracy: %f\" % Accuracy) "
   ]
  },
  {
   "cell_type": "code",
   "execution_count": 6,
   "metadata": {},
   "outputs": [
    {
     "name": "stdout",
     "output_type": "stream",
     "text": [
      "Probability Estimates for test data:\n",
      " [[0.         1.        ]\n",
      " [0.67384254 0.32615746]\n",
      " [1.         0.        ]\n",
      " [0.         1.        ]\n",
      " [1.         0.        ]\n",
      " [0.         1.        ]\n",
      " [1.         0.        ]\n",
      " [1.         0.        ]\n",
      " [1.         0.        ]\n",
      " [1.         0.        ]\n",
      " [0.         1.        ]\n",
      " [1.         0.        ]\n",
      " [1.         0.        ]\n",
      " [1.         0.        ]\n",
      " [0.33961354 0.66038646]\n",
      " [0.         1.        ]\n",
      " [0.         1.        ]\n",
      " [1.         0.        ]\n",
      " [1.         0.        ]\n",
      " [1.         0.        ]]\n"
     ]
    }
   ],
   "source": [
    "#Euclidean distance model\n",
    "KNN_Euclidean = KNeighborsClassifier(n_neighbors=3, metric='euclidean', weights='distance')\n",
    "KNN_Euclidean.fit(X_train,y_train)\n",
    "\n",
    "y_pred_Euclidean = KNN_Euclidean.predict(X_test)\n",
    "\n",
    "pred_prob_Euclidean = KNN_Euclidean.predict_proba(X_test)\n",
    "\n",
    "print(\"Probability Estimates for test data:\\n\",pred_prob_Euclidean)\n"
   ]
  },
  {
   "cell_type": "code",
   "execution_count": 7,
   "metadata": {},
   "outputs": [
    {
     "name": "stdout",
     "output_type": "stream",
     "text": [
      "Confusion Matrix:\n",
      " [[13  1]\n",
      " [ 0  6]]\n",
      "F-measure: 0.923077\n",
      "Precision: 0.857143\n",
      "Accuracy: 100.000000\n"
     ]
    }
   ],
   "source": [
    "#Evaluation Metrics for Euclidean Model\n",
    "Confusion_Matrix = confusion_matrix(y_test, y_pred_Euclidean)\n",
    "F_Score = f1_score(y_test,y_pred_Euclidean)\n",
    "Precision = precision_score(y_test, y_pred_Euclidean)\n",
    "Accuracy = accuracy_score(y_test, y_pred_Manhattan)*100\n",
    "print(\"Confusion Matrix:\\n\",Confusion_Matrix)\n",
    "print(\"F-measure: %f\" % F_Score)\n",
    "print(\"Precision: %f\" % Precision)\n",
    "print(\"Accuracy: %f\" % Accuracy)   "
   ]
  },
  {
   "cell_type": "code",
   "execution_count": 8,
   "metadata": {},
   "outputs": [
    {
     "name": "stdout",
     "output_type": "stream",
     "text": [
      "For Manhattan model:\n",
      " [ True  True  True  True  True  True  True  True  True  True  True  True\n",
      "  True  True  True  True  True  True  True  True]\n",
      "For Euclidean model:\n",
      " [ True  True  True  True  True  True  True  True  True  True  True  True\n",
      "  True  True False  True  True  True  True  True]\n"
     ]
    }
   ],
   "source": [
    "#Test data class labels comparsion to precited class labels\n",
    "print(\"For Manhattan model:\\n\", y_test == y_pred_Manhattan)\n",
    "\n",
    "print(\"For Euclidean model:\\n\", y_test == y_pred_Euclidean)"
   ]
  }
 ],
 "metadata": {
  "interpreter": {
   "hash": "6dfd1747c973c3eb934c679b0426d37f674fe6fbb75c33fa4481649492823a39"
  },
  "kernelspec": {
   "display_name": "Python 3.8.8 64-bit ('base': conda)",
   "name": "python3"
  },
  "language_info": {
   "codemirror_mode": {
    "name": "ipython",
    "version": 3
   },
   "file_extension": ".py",
   "mimetype": "text/x-python",
   "name": "python",
   "nbconvert_exporter": "python",
   "pygments_lexer": "ipython3",
   "version": "3.8.8"
  },
  "orig_nbformat": 4
 },
 "nbformat": 4,
 "nbformat_minor": 2
}
