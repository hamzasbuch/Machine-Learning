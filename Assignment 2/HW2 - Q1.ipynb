{
 "cells": [
  {
   "cell_type": "code",
   "execution_count": 1,
   "metadata": {},
   "outputs": [],
   "source": [
    "#import required modules\n",
    "import pandas as pd\n",
    "\n",
    "from sklearn.preprocessing import StandardScaler\n",
    "\n",
    "from sklearn.model_selection import train_test_split\n",
    "\n",
    "from sklearn.discriminant_analysis import LinearDiscriminantAnalysis as LDA\n"
   ]
  },
  {
   "cell_type": "code",
   "execution_count": 2,
   "metadata": {},
   "outputs": [],
   "source": [
    "# Reading data from excel to pandas data frame and splitting dataframes as per class labels\n",
    "df = pd.read_csv('iris.data')\n",
    "#X= df.iloc[:,0:4]\n",
    "#y = df.iloc[:,-1]\n",
    "\n",
    "class_labels = df[df.columns[-1]].unique()\n",
    "\n",
    "df_setosa = df[df[df.columns[-1]] == class_labels[0]]\n",
    "\n",
    "df_versicolor = df[df[df.columns[-1]] == class_labels[1]]\n",
    "\n",
    "df_virginica = df[df[df.columns[-1]] == class_labels[2]]\n",
    "\n",
    "frames_12 =  [df_setosa,df_versicolor]\n",
    "frames_13 = [df_setosa, df_virginica]\n",
    "frames_23 = [df_versicolor,df_virginica]\n",
    "\n",
    "df_12 = pd.concat(frames_12)\n",
    "df_13 = pd.concat(frames_13)\n",
    "df_23 = pd.concat(frames_23)"
   ]
  },
  {
   "cell_type": "code",
   "execution_count": 3,
   "metadata": {},
   "outputs": [
    {
     "name": "stdout",
     "output_type": "stream",
     "text": [
      "Mean Accuracy 1.000000\n"
     ]
    }
   ],
   "source": [
    "#For class labels 1 and 2\n",
    "X_12 = df_12.iloc[:,0:4]\n",
    "y_12 = df_12.iloc[:,-1]\n",
    "\n",
    "\n",
    "scaler_12 = StandardScaler()\n",
    "X_12_normalised = scaler_12.fit_transform(X_12)\n",
    "\n",
    "X_12_train, X_12_test, y_12_train, y_12_test = train_test_split(X_12_normalised, y_12, test_size=0.2, random_state=0)\n",
    "\n",
    "\n",
    "lda_12 = LDA()\n",
    "# X_12_train = lda_12.fit_transform(X_12_train, y_12_train)\n",
    "lda_12.fit(X_12_train, y_12_train)\n",
    "\n",
    "y_pred = lda_12.predict(X_12_test)\n",
    "\n",
    "score = lda_12.score(X_12_test,y_12_test)\n",
    "\n",
    "print(\"Mean Accuracy %f\" % score)"
   ]
  },
  {
   "cell_type": "code",
   "execution_count": 11,
   "metadata": {},
   "outputs": [
    {
     "name": "stdout",
     "output_type": "stream",
     "text": [
      "Mean Accuracy 1.000000\n"
     ]
    }
   ],
   "source": [
    "#For class labels 1 and 3\n",
    "X_13 = df_13.iloc[:,0:4]\n",
    "y_13 = df_13.iloc[:,-1]\n",
    "\n",
    "scaler_13 = StandardScaler()\n",
    "X_13_normalised = scaler_13.fit_transform(X_13)\n",
    "\n",
    "X_13_train, X_13_test, y_13_train, y_13_test = train_test_split(X_13_normalised, y_13, test_size=0.2, random_state=0)\n",
    "\n",
    "lda_13 = LDA()\n",
    "X_13_train = lda_13.fit_transform(X_13_train, y_13_train)\n",
    "\n",
    "y_pred = lda_13.predict(X_13_test)\n",
    "\n",
    "score = lda_13.score(X_13_test,y_13_test)\n",
    "\n",
    "print(\"Mean Accuracy %f\" % score)"
   ]
  },
  {
   "cell_type": "code",
   "execution_count": 12,
   "metadata": {},
   "outputs": [
    {
     "name": "stdout",
     "output_type": "stream",
     "text": [
      "Mean Accuracy 0.900000\n"
     ]
    }
   ],
   "source": [
    "#For class labels 2 and 3\n",
    "X_23 = df_23.iloc[:,0:4]\n",
    "y_23 = df_23.iloc[:,-1]\n",
    "\n",
    "scaler_23 = StandardScaler()\n",
    "X_23_normalised = scaler_23.fit_transform(X_23)\n",
    "\n",
    "X_23_train, X_23_test, y_23_train, y_23_test = train_test_split(X_23_normalised, y_23, test_size=0.2, random_state=0)\n",
    "\n",
    "lda_23 = LDA()\n",
    "X_23_train = lda_23.fit_transform(X_23_train, y_23_train)\n",
    "\n",
    "y_pred = lda_23.predict(X_23_test)\n",
    "\n",
    "score = lda_23.score(X_23_test,y_23_test)\n",
    "\n",
    "print(\"Mean Accuracy %f\" % score) "
   ]
  }
 ],
 "metadata": {
  "interpreter": {
   "hash": "6dfd1747c973c3eb934c679b0426d37f674fe6fbb75c33fa4481649492823a39"
  },
  "kernelspec": {
   "display_name": "Python 3.8.8 64-bit ('base': conda)",
   "name": "python3"
  },
  "language_info": {
   "codemirror_mode": {
    "name": "ipython",
    "version": 3
   },
   "file_extension": ".py",
   "mimetype": "text/x-python",
   "name": "python",
   "nbconvert_exporter": "python",
   "pygments_lexer": "ipython3",
   "version": "3.8.8"
  },
  "orig_nbformat": 4
 },
 "nbformat": 4,
 "nbformat_minor": 2
}
