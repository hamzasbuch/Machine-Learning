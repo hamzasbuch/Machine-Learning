{
 "cells": [
  {
   "cell_type": "code",
   "execution_count": 182,
   "metadata": {},
   "outputs": [],
   "source": [
    "#import required modules\n",
    "import pandas as pd\n",
    "import numpy as np\n",
    "from sklearn.metrics import recall_score, precision_score, accuracy_score"
   ]
  },
  {
   "cell_type": "code",
   "execution_count": 183,
   "metadata": {},
   "outputs": [],
   "source": [
    "#read file from database\n",
    "df = pd.read_csv('wdbc.data')\n",
    "X = df.iloc[:,2:]\n",
    "y = df[df.columns[1]]\n",
    "\n",
    "y = [1 if res == \"M\" else 0 for res in y]\n",
    "\n",
    "y = pd.DataFrame(y)\n"
   ]
  },
  {
   "cell_type": "code",
   "execution_count": 184,
   "metadata": {},
   "outputs": [],
   "source": [
    "#Feature scaling\n",
    "X = (X-X.mean())/X.std()    \n",
    "\n",
    "X_train = X.iloc[0:454,:]\n",
    "X_test = X.iloc[455:,:]\n",
    "y_train = y.iloc[0:454,:]\n",
    "y_test = y.iloc[455:,:]"
   ]
  },
  {
   "cell_type": "code",
   "execution_count": 185,
   "metadata": {},
   "outputs": [],
   "source": [
    "#Helper function for traning and prediction\n",
    "def sigmoid(z):\n",
    "    return 1.0/(1 + np.exp(-z))\n",
    "\n",
    "def loss(y, y_hat):\n",
    "    loss = -np.mean(y*(np.log(y_hat)) - (1-y)*np.log(1-y_hat))\n",
    "    return loss\n",
    "\n",
    "def gradients(X, y, y_hat):\n",
    "    \n",
    "    # m-> number of training examples.\n",
    "    m = X.shape[0]\n",
    "    \n",
    "    # Gradient of loss w.r.t weights.\n",
    "    dw = (1/m)*np.dot(X.T, (y_hat - y))\n",
    "    \n",
    "    #return dw, db\n",
    "    return dw\n",
    "\n",
    "def train(X, y, batch_size, epochs, learning_rate):\n",
    "        \n",
    "    # m , n = no. of training examples and features\n",
    "    m, n = X.shape\n",
    "    \n",
    "    # Initialize weights and bias to zeros.\n",
    "    w = np.zeros((n,1))\n",
    "    \n",
    "    # Training loop.\n",
    "    for epoch in range(epochs):\n",
    "        for i in range((m-1)//batch_size + 1):\n",
    "            # Defining batches for SGD\n",
    "            start_i = i*batch_size\n",
    "            end_i = start_i + batch_size\n",
    "            xb = X[start_i:end_i]\n",
    "            yb = y[start_i:end_i]\n",
    "            \n",
    "            # Calculate hypothesis\n",
    "            y_hat = sigmoid(np.dot(xb, w))\n",
    "            \n",
    "            # Get the gradients of loss w.r.t parameters\n",
    "            dw = gradients(xb, yb,  y_hat)\n",
    "            \n",
    "            # Update the weights.\n",
    "            w = w - learning_rate*dw\n",
    "            \n",
    "    return w\n",
    "\n",
    "\n",
    "def predict(X,w):\n",
    "    \n",
    "    preds = sigmoid(np.dot(X, w))\n",
    "    \n",
    "    pred_class = []\n",
    "\n",
    "    pred_class = [1 if i > 0.5 else 0 for i in preds]\n",
    "    \n",
    "    return np.array(pred_class)              "
   ]
  },
  {
   "cell_type": "code",
   "execution_count": 188,
   "metadata": {},
   "outputs": [
    {
     "name": "stdout",
     "output_type": "stream",
     "text": [
      "Recall: 1.000000\n",
      "Precision: 0.928571\n",
      "Accuracy: 0.982301\n"
     ]
    }
   ],
   "source": [
    "#Training and prediction and evaluation\n",
    "w = train(X_train, y_train, 100, 1000, 0.01)\n",
    "\n",
    "y_pred = predict(X_test, w)\n",
    "\n",
    "Recall = recall_score(y_test,y_pred)\n",
    "Precision = precision_score(y_test, y_pred)\n",
    "Accuracy = accuracy_score(y_test, y_pred)\n",
    "print(\"Recall: %f\" % Recall)\n",
    "print(\"Precision: %f\" % Precision)\n",
    "print(\"Accuracy: %f\" % Accuracy)"
   ]
  },
  {
   "cell_type": "code",
   "execution_count": 193,
   "metadata": {},
   "outputs": [
    {
     "name": "stdout",
     "output_type": "stream",
     "text": [
      "For batch size: 100.000000  - \n",
      "Recall: 1.000000\n",
      "Precision: 0.928571\n",
      "Accuracy: 0.982301\n",
      "For batch size: 500.000000  - \n",
      "Recall: 1.000000\n",
      "Precision: 0.962963\n",
      "Accuracy: 0.991150\n",
      "For batch size: 1000.000000  - \n",
      "Recall: 1.000000\n",
      "Precision: 0.962963\n",
      "Accuracy: 0.991150\n"
     ]
    }
   ],
   "source": [
    "#Using cross validation\n",
    "for batch_size in [100,500,1000]:\n",
    "        print(\"For batch size: %f  - \" % batch_size)\n",
    "        w = train(X_train, y_train, batch_size, 1000, 0.01)\n",
    "        y_pred = predict(X_test, w) \n",
    "        Recall = recall_score(y_test,y_pred)\n",
    "        Precision = precision_score(y_test, y_pred)\n",
    "        Accuracy = accuracy_score(y_test, y_pred)\n",
    "        print(\"Recall: %f\" % Recall)\n",
    "        print(\"Precision: %f\" % Precision)\n",
    "        print(\"Accuracy: %f\" % Accuracy)       "
   ]
  }
 ],
 "metadata": {
  "interpreter": {
   "hash": "6dfd1747c973c3eb934c679b0426d37f674fe6fbb75c33fa4481649492823a39"
  },
  "kernelspec": {
   "display_name": "Python 3.8.8 64-bit ('base': conda)",
   "name": "python3"
  },
  "language_info": {
   "codemirror_mode": {
    "name": "ipython",
    "version": 3
   },
   "file_extension": ".py",
   "mimetype": "text/x-python",
   "name": "python",
   "nbconvert_exporter": "python",
   "pygments_lexer": "ipython3",
   "version": "3.8.8"
  },
  "orig_nbformat": 4
 },
 "nbformat": 4,
 "nbformat_minor": 2
}
