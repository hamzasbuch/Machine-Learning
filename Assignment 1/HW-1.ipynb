{
 "cells": [
  {
   "cell_type": "code",
   "execution_count": 2,
   "source": [
    "#import required modules\n",
    "import pandas as pd\n",
    "\n",
    "import numpy as np\n",
    "\n",
    "from sklearn.preprocessing import StandardScaler\n",
    "\n",
    "from sklearn.linear_model import Ridge\n",
    "from sklearn.linear_model import Lasso\n",
    "from sklearn.linear_model import ElasticNet \n",
    "\n",
    "from sklearn.model_selection import cross_val_predict\n",
    "from sklearn.model_selection import cross_validate\n",
    "from sklearn.metrics import mean_squared_error"
   ],
   "outputs": [],
   "metadata": {}
  },
  {
   "cell_type": "code",
   "execution_count": 3,
   "source": [
    "#Reading data from excel to pandas data frame\n",
    "df = pd.read_excel('ENB2012_data.xlsx')\n",
    "X= df.iloc[:,0:8]\n",
    "y = df.iloc[:,-1]"
   ],
   "outputs": [],
   "metadata": {}
  },
  {
   "cell_type": "code",
   "execution_count": 4,
   "source": [
    "#Perform feature scaling on training data\n",
    "scaler = StandardScaler()\n",
    "X_scaled = scaler.fit_transform(X)"
   ],
   "outputs": [],
   "metadata": {}
  },
  {
   "cell_type": "code",
   "execution_count": 5,
   "source": [
    "#Ridge model\n",
    "model_Ridge =Ridge()\n",
    "\n",
    "y_pred_Ridge = cross_val_predict(model_Ridge,X_scaled,y,cv=5)\n",
    "result = pd.DataFrame({'Predicted y': y_pred_Ridge,'Actual y': y})\n",
    "print(result)\n",
    "\n",
    "cv_results = cross_validate(model_Ridge, X_scaled, y, cv=5, scoring=('neg_mean_squared_error'))\n",
    "print(\"MSE for Ridge model: %0.3f\" % (abs(np.mean(cv_results['test_score']))))\n"
   ],
   "outputs": [
    {
     "output_type": "stream",
     "name": "stdout",
     "text": [
      "     Predicted y  Actual y\n",
      "0      27.724722     21.33\n",
      "1      27.857348     21.33\n",
      "2      27.989975     21.33\n",
      "3      28.122602     21.33\n",
      "4      29.783777     28.28\n",
      "..           ...       ...\n",
      "763    20.605397     21.40\n",
      "764    20.750787     16.88\n",
      "765    20.870468     17.11\n",
      "766    20.990149     16.61\n",
      "767    21.109830     16.03\n",
      "\n",
      "[768 rows x 2 columns]\n",
      "MSE for Ridge model: 10.891\n"
     ]
    }
   ],
   "metadata": {}
  },
  {
   "cell_type": "code",
   "execution_count": 6,
   "source": [
    "#Lasso model\n",
    "model_Lasso =Lasso()\n",
    "\n",
    "y_pred_Lasso = cross_val_predict(model_Lasso,X_scaled,y,cv=5)\n",
    "result = pd.DataFrame({'Predicted y': y_pred_Lasso,'Actual y': y})\n",
    "print(result)\n",
    "\n",
    "cv_results = cross_validate(model_Lasso, X_scaled, y, cv=5, scoring=('neg_mean_squared_error'))\n",
    "print(\"MSE for Lasso model: %0.3f\" % (abs(np.mean(cv_results['test_score']))))"
   ],
   "outputs": [
    {
     "output_type": "stream",
     "name": "stdout",
     "text": [
      "     Predicted y  Actual y\n",
      "0      31.420633     21.33\n",
      "1      31.420633     21.33\n",
      "2      31.420633     21.33\n",
      "3      31.420633     21.33\n",
      "4      31.978019     28.28\n",
      "..           ...       ...\n",
      "763    18.943342     21.40\n",
      "764    19.542735     16.88\n",
      "765    19.542735     17.11\n",
      "766    19.542735     16.61\n",
      "767    19.542735     16.03\n",
      "\n",
      "[768 rows x 2 columns]\n",
      "MSE for Lasso model: 15.162\n"
     ]
    }
   ],
   "metadata": {}
  },
  {
   "cell_type": "code",
   "execution_count": 7,
   "source": [
    "#Elastic Net model\n",
    "model_EN = ElasticNet()\n",
    "\n",
    "y_pred_EN = cross_val_predict(model_EN,X_scaled,y,cv=5)\n",
    "result = pd.DataFrame({'Predicted y': y_pred_EN,'Actual y': y})\n",
    "print(result)\n",
    "\n",
    "cv_results = cross_validate(model_EN, X_scaled, y, cv=5, scoring=('neg_mean_squared_error'))\n",
    "print(\"MSE for Elastic Net model: %0.3f\" % (abs(np.mean(cv_results['test_score']))))"
   ],
   "outputs": [
    {
     "output_type": "stream",
     "name": "stdout",
     "text": [
      "     Predicted y  Actual y\n",
      "0      32.148541     21.33\n",
      "1      32.148541     21.33\n",
      "2      32.148541     21.33\n",
      "3      32.148541     21.33\n",
      "4      31.480921     28.28\n",
      "..           ...       ...\n",
      "763    19.925941     21.40\n",
      "764    20.503657     16.88\n",
      "765    20.503657     17.11\n",
      "766    20.503657     16.61\n",
      "767    20.503657     16.03\n",
      "\n",
      "[768 rows x 2 columns]\n",
      "MSE for Elastic Net model: 19.198\n"
     ]
    }
   ],
   "metadata": {}
  }
 ],
 "metadata": {
  "orig_nbformat": 4,
  "language_info": {
   "name": "python",
   "version": "3.8.8",
   "mimetype": "text/x-python",
   "codemirror_mode": {
    "name": "ipython",
    "version": 3
   },
   "pygments_lexer": "ipython3",
   "nbconvert_exporter": "python",
   "file_extension": ".py"
  },
  "kernelspec": {
   "name": "python3",
   "display_name": "Python 3.8.8 64-bit ('base': conda)"
  },
  "interpreter": {
   "hash": "47be87bf95e6eab5eb6702f8c93d159f86d652dc80e9cb712e6edbd7cdd05743"
  }
 },
 "nbformat": 4,
 "nbformat_minor": 2
}